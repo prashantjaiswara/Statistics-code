{
 "cells": [
  {
   "cell_type": "code",
   "execution_count": 1,
   "metadata": {},
   "outputs": [],
   "source": [
    "import math"
   ]
  },
  {
   "cell_type": "code",
   "execution_count": 15,
   "metadata": {},
   "outputs": [
    {
     "name": "stdout",
     "output_type": "stream",
     "text": [
      "Probability P[Z<2]:0.9773\n"
     ]
    }
   ],
   "source": [
    "def normal_area(X=0,mu=0,sigma=1):\n",
    "    pi=math.pi\n",
    "\n",
    "    def height_normal(x,mu=0,sigma=1):\n",
    "        c1=1/( (2*pi*sigma*sigma)**0.5 )\n",
    "        k=-( ( (x-mu)/sigma )**2)/2\n",
    "        h=c1*math.exp(k)\n",
    "\n",
    "        return h\n",
    "\n",
    "#   print(height_normal(0,0,1))\n",
    "    del_x=0.0001\n",
    "    \n",
    "    no_of_steps=math.floor( (X-0)/del_x )\n",
    "\n",
    "    area_sum=0\n",
    "    x=0\n",
    "    for i in range(no_of_steps):\n",
    "        area_sum =area_sum + height_normal(x,mu,sigma)*del_x\n",
    "        x=x+del_x\n",
    "    \n",
    "    return round( (area_sum+0.5), 4)\n",
    "\n",
    "x=2\n",
    "p=normal_area(x,mu=0,sigma=1)\n",
    "print(\"Probability P[Z<\"+str(x)+\"]:\"+str(p) )"
   ]
  },
  {
   "cell_type": "code",
   "execution_count": null,
   "metadata": {},
   "outputs": [],
   "source": []
  }
 ],
 "metadata": {
  "kernelspec": {
   "display_name": "Python 3",
   "language": "python",
   "name": "python3"
  },
  "language_info": {
   "codemirror_mode": {
    "name": "ipython",
    "version": 3
   },
   "file_extension": ".py",
   "mimetype": "text/x-python",
   "name": "python",
   "nbconvert_exporter": "python",
   "pygments_lexer": "ipython3",
   "version": "3.7.3"
  }
 },
 "nbformat": 4,
 "nbformat_minor": 2
}
