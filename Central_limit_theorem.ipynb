{
 "cells": [
  {
   "cell_type": "code",
   "execution_count": 59,
   "metadata": {},
   "outputs": [],
   "source": [
    "import numpy as np\n",
    "import matplotlib.pyplot as plt"
   ]
  },
  {
   "cell_type": "code",
   "execution_count": 60,
   "metadata": {},
   "outputs": [
    {
     "name": "stdout",
     "output_type": "stream",
     "text": [
      "[0.399 0.968 0.834 ... 0.802 0.475 0.632]\n"
     ]
    }
   ],
   "source": [
    "arr=np.random.rand(1000000).round(3)\n",
    "print(arr)\n"
   ]
  },
  {
   "cell_type": "code",
   "execution_count": 67,
   "metadata": {},
   "outputs": [
    {
     "data": {
      "image/png": "[encoded data removed]",
      "text/plain": [
       "<Figure size 432x288 with 1 Axes>"
      ]
     },
     "metadata": {
      "needs_background": "light"
     },
     "output_type": "display_data"
    }
   ],
   "source": [
    "plt.hist(arr, bins='auto')  \n",
    "plt.title(\"Histogram with 'auto' bins\")\n",
    "\n",
    "plt.show()"
   ]
  },
  {
   "cell_type": "code",
   "execution_count": 61,
   "metadata": {},
   "outputs": [
    {
     "name": "stdout",
     "output_type": "stream",
     "text": [
      "The shape of sampling list array is: (1, 16)\n"
     ]
    }
   ],
   "source": [
    "sampling_size=16\n",
    "no_of_sample=1000\n",
    "\n",
    "sample_0= np.random.choice(arr,size=sampling_size,replace=False,p=None)\n",
    "sample_list=np.atleast_2d(sample_0)\n",
    "print(\"The shape of sampling list array is:\", sample_list.shape)\n",
    "\n",
    "for i in range(no_of_sample-1):\n",
    "    sample_t= np.random.choice(arr,size=sampling_size,replace=False,p=None)\n",
    "    sample_i= np.atleast_2d(sample_t)\n",
    "       \n",
    "    sample_list= np.append( sample_list, sample_i, axis=0)\n"
   ]
  },
  {
   "cell_type": "code",
   "execution_count": 62,
   "metadata": {},
   "outputs": [
    {
     "data": {
      "text/plain": [
       "(1000, 16)"
      ]
     },
     "execution_count": 62,
     "metadata": {},
     "output_type": "execute_result"
    }
   ],
   "source": [
    "sample_list.shape"
   ]
  },
  {
   "cell_type": "code",
   "execution_count": 64,
   "metadata": {},
   "outputs": [
    {
     "name": "stdout",
     "output_type": "stream",
     "text": [
      "[ 4.     4.016  4.757  4.962  4.984  5.066  5.073  5.123  5.224  5.24\n",
      "  5.261  5.306  5.319  5.38   5.394  5.413  5.461  5.482  5.499  5.51\n",
      "  5.526  5.527  5.535  5.604  5.605  5.611  5.634  5.645  5.714  5.753\n",
      "  5.799  5.801  5.82   5.834  5.857  5.877  5.894  5.901  5.925  5.937\n",
      "  5.945  5.947  5.949  5.953  5.958  5.971  5.989  5.99   6.005  6.035\n",
      "  6.058  6.058  6.061  6.067  6.072  6.081  6.087  6.104  6.105  6.111\n",
      "  6.132  6.202  6.217  6.223  6.229  6.243  6.245  6.248  6.264  6.266\n",
      "  6.281  6.281  6.287  6.291  6.298  6.304  6.308  6.32   6.324  6.328\n",
      "  6.335  6.336  6.345  6.35   6.354  6.362  6.369  6.37   6.372  6.373\n",
      "  6.377  6.397  6.398  6.405  6.412  6.434  6.435  6.45   6.452  6.468\n",
      "  6.47   6.472  6.48   6.498  6.507  6.526  6.529  6.532  6.538  6.551\n",
      "  6.557  6.558  6.56   6.567  6.574  6.585  6.585  6.592  6.605  6.605\n",
      "  6.633  6.634  6.634  6.641  6.647  6.653  6.656  6.667  6.67   6.675\n",
      "  6.675  6.682  6.692  6.695  6.696  6.7    6.7    6.7    6.708  6.722\n",
      "  6.726  6.73   6.739  6.747  6.752  6.756  6.758  6.759  6.76   6.76\n",
      "  6.761  6.762  6.766  6.767  6.77   6.771  6.777  6.78   6.781  6.782\n",
      "  6.783  6.796  6.798  6.799  6.808  6.81   6.83   6.832  6.833  6.84\n",
      "  6.841  6.843  6.849  6.85   6.851  6.851  6.852  6.863  6.875  6.876\n",
      "  6.879  6.88   6.885  6.89   6.89   6.892  6.892  6.895  6.898  6.903\n",
      "  6.916  6.918  6.92   6.922  6.924  6.931  6.933  6.937  6.945  6.953\n",
      "  6.955  6.955  6.957  6.958  6.962  6.963  6.963  6.963  6.975  6.977\n",
      "  6.977  6.979  6.981  6.986  6.989  6.994  6.994  6.995  7.004  7.008\n",
      "  7.009  7.009  7.01   7.013  7.02   7.021  7.021  7.023  7.024  7.024\n",
      "  7.036  7.038  7.042  7.044  7.045  7.046  7.053  7.056  7.057  7.057\n",
      "  7.066  7.075  7.076  7.077  7.077  7.079  7.08   7.083  7.086  7.088\n",
      "  7.09   7.092  7.095  7.106  7.115  7.116  7.118  7.135  7.141  7.142\n",
      "  7.151  7.156  7.162  7.167  7.171  7.173  7.181  7.182  7.185  7.185\n",
      "  7.188  7.19   7.191  7.196  7.198  7.21   7.221  7.221  7.221  7.223\n",
      "  7.226  7.228  7.234  7.237  7.253  7.253  7.263  7.265  7.268  7.269\n",
      "  7.271  7.284  7.289  7.292  7.296  7.299  7.3    7.301  7.31   7.313\n",
      "  7.318  7.319  7.32   7.329  7.329  7.33   7.34   7.342  7.346  7.349\n",
      "  7.354  7.356  7.359  7.359  7.36   7.362  7.364  7.369  7.37   7.38\n",
      "  7.38   7.389  7.398  7.4    7.402  7.402  7.403  7.411  7.415  7.417\n",
      "  7.417  7.42   7.424  7.425  7.426  7.428  7.432  7.434  7.44   7.441\n",
      "  7.45   7.453  7.462  7.463  7.468  7.486  7.486  7.49   7.508  7.511\n",
      "  7.512  7.513  7.522  7.539  7.542  7.555  7.558  7.56   7.563  7.563\n",
      "  7.564  7.567  7.568  7.573  7.574  7.575  7.586  7.589  7.589  7.591\n",
      "  7.593  7.601  7.607  7.616  7.625  7.626  7.627  7.642  7.645  7.646\n",
      "  7.65   7.65   7.655  7.655  7.656  7.659  7.659  7.67   7.671  7.673\n",
      "  7.673  7.677  7.68   7.681  7.683  7.684  7.686  7.693  7.693  7.696\n",
      "  7.7    7.703  7.715  7.715  7.718  7.718  7.729  7.732  7.736  7.748\n",
      "  7.748  7.749  7.751  7.751  7.753  7.755  7.757  7.759  7.761  7.761\n",
      "  7.762  7.765  7.768  7.772  7.78   7.781  7.783  7.785  7.787  7.789\n",
      "  7.79   7.794  7.801  7.807  7.808  7.81   7.812  7.813  7.817  7.819\n",
      "  7.823  7.829  7.835  7.835  7.838  7.839  7.84   7.844  7.848  7.85\n",
      "  7.854  7.859  7.863  7.864  7.874  7.879  7.892  7.897  7.902  7.904\n",
      "  7.904  7.912  7.912  7.914  7.915  7.915  7.916  7.919  7.92   7.925\n",
      "  7.927  7.931  7.931  7.94   7.942  7.945  7.947  7.948  7.951  7.952\n",
      "  7.965  7.966  7.968  7.972  7.973  7.977  7.982  7.987  7.989  7.994\n",
      "  7.999  8.005  8.006  8.009  8.009  8.01   8.011  8.026  8.027  8.029\n",
      "  8.035  8.036  8.044  8.046  8.049  8.049  8.053  8.053  8.063  8.065\n",
      "  8.067  8.071  8.073  8.074  8.076  8.076  8.084  8.085  8.086  8.088\n",
      "  8.088  8.089  8.1    8.101  8.103  8.107  8.107  8.111  8.115  8.117\n",
      "  8.122  8.127  8.129  8.133  8.14   8.15   8.153  8.16   8.161  8.164\n",
      "  8.165  8.166  8.166  8.174  8.175  8.177  8.181  8.182  8.186  8.187\n",
      "  8.187  8.192  8.192  8.199  8.206  8.219  8.228  8.234  8.235  8.236\n",
      "  8.238  8.241  8.246  8.256  8.256  8.257  8.257  8.259  8.259  8.259\n",
      "  8.261  8.265  8.266  8.273  8.279  8.282  8.283  8.29   8.299  8.301\n",
      "  8.306  8.307  8.307  8.309  8.31   8.311  8.311  8.322  8.323  8.323\n",
      "  8.328  8.346  8.35   8.352  8.353  8.355  8.356  8.358  8.362  8.367\n",
      "  8.369  8.378  8.381  8.381  8.382  8.382  8.383  8.387  8.391  8.392\n",
      "  8.398  8.399  8.399  8.401  8.419  8.42   8.424  8.425  8.427  8.435\n",
      "  8.446  8.456  8.459  8.476  8.48   8.486  8.488  8.49   8.492  8.503\n",
      "  8.505  8.508  8.509  8.512  8.513  8.513  8.516  8.521  8.521  8.522\n",
      "  8.523  8.524  8.528  8.528  8.535  8.535  8.535  8.542  8.545  8.545\n",
      "  8.548  8.551  8.556  8.564  8.57   8.587  8.592  8.593  8.594  8.595\n",
      "  8.599  8.607  8.607  8.608  8.611  8.618  8.62   8.622  8.634  8.636\n",
      "  8.638  8.638  8.647  8.649  8.649  8.651  8.653  8.659  8.659  8.659\n",
      "  8.674  8.674  8.676  8.679  8.681  8.684  8.689  8.697  8.706  8.708\n",
      "  8.71   8.711  8.712  8.714  8.719  8.725  8.737  8.737  8.738  8.739\n",
      "  8.75   8.752  8.759  8.759  8.762  8.766  8.768  8.771  8.779  8.78\n",
      "  8.783  8.786  8.788  8.788  8.789  8.789  8.793  8.795  8.798  8.8\n",
      "  8.805  8.816  8.817  8.826  8.827  8.827  8.83   8.83   8.831  8.833\n",
      "  8.837  8.837  8.838  8.838  8.844  8.847  8.847  8.848  8.856  8.858\n",
      "  8.858  8.859  8.86   8.867  8.872  8.876  8.88   8.881  8.892  8.901\n",
      "  8.901  8.902  8.903  8.903  8.908  8.91   8.91   8.923  8.924  8.93\n",
      "  8.931  8.938  8.943  8.946  8.948  8.958  8.96   8.961  8.961  8.962\n",
      "  8.963  8.966  8.969  8.97   8.973  8.983  8.985  8.989  8.993  8.994\n",
      "  8.997  9.002  9.002  9.009  9.017  9.018  9.026  9.026  9.027  9.027\n",
      "  9.03   9.03   9.031  9.031  9.036  9.041  9.048  9.049  9.057  9.058\n",
      "  9.068  9.07   9.076  9.079  9.081  9.082  9.086  9.087  9.094  9.095\n",
      "  9.112  9.114  9.115  9.122  9.131  9.137  9.144  9.145  9.145  9.15\n",
      "  9.153  9.162  9.163  9.168  9.17   9.177  9.186  9.186  9.196  9.199\n",
      "  9.199  9.203  9.206  9.209  9.213  9.213  9.217  9.221  9.227  9.246\n",
      "  9.25   9.256  9.262  9.265  9.267  9.27   9.272  9.274  9.278  9.292\n",
      "  9.303  9.311  9.316  9.34   9.346  9.361  9.365  9.366  9.373  9.376\n",
      "  9.398  9.402  9.404  9.409  9.411  9.425  9.428  9.436  9.437  9.439\n",
      "  9.447  9.457  9.46   9.468  9.474  9.474  9.481  9.481  9.483  9.492\n",
      "  9.504  9.505  9.508  9.522  9.525  9.528  9.537  9.539  9.544  9.546\n",
      "  9.556  9.567  9.569  9.587  9.588  9.618  9.621  9.623  9.627  9.629\n",
      "  9.631  9.635  9.638  9.643  9.646  9.661  9.671  9.686  9.696  9.696\n",
      "  9.707  9.71   9.719  9.722  9.724  9.73   9.737  9.746  9.749  9.751\n",
      "  9.757  9.757  9.768  9.776  9.779  9.782  9.784  9.796  9.803  9.805\n",
      "  9.819  9.829  9.867  9.873  9.877  9.892  9.9    9.908  9.916  9.922\n",
      "  9.931  9.931  9.933  9.948  9.966  9.97  10.008 10.009 10.014 10.045\n",
      " 10.056 10.085 10.094 10.107 10.108 10.135 10.137 10.141 10.143 10.148\n",
      " 10.181 10.181 10.202 10.202 10.242 10.283 10.299 10.3   10.307 10.32\n",
      " 10.326 10.327 10.352 10.358 10.368 10.377 10.379 10.426 10.435 10.441\n",
      " 10.465 10.466 10.578 10.617 10.622 10.649 10.701 10.704 10.709 10.728\n",
      " 10.774 10.791 10.796 10.812 10.838 11.091 11.199 11.255 11.451 11.888]\n"
     ]
    }
   ],
   "source": [
    "list_sum=np.sum(sample_list,axis=1)\n",
    "list_sum= np.sort(list_sum)\n",
    "print(list_sum)\n",
    "np.savetxt(\"list_sum.csv\",list_sum,delimiter=\"\\n\")"
   ]
  },
  {
   "cell_type": "code",
   "execution_count": 65,
   "metadata": {},
   "outputs": [
    {
     "data": {
      "text/plain": [
       "(array([  2,   3,  14,  29,  56, 114, 130, 143, 138, 152,  99,  66,  36,\n",
       "         13,   4], dtype=int64),\n",
       " array([ 4. ,  4.5,  5. ,  5.5,  6. ,  6.5,  7. ,  7.5,  8. ,  8.5,  9. ,\n",
       "         9.5, 10. , 10.5, 11. , 11.5]))"
      ]
     },
     "execution_count": 65,
     "metadata": {},
     "output_type": "execute_result"
    }
   ],
   "source": [
    "np.histogram(list_sum,bins=[4,4.5,5,5.5,6,6.5,7,7.5,8,8.5,9,9.5,10,10.5,11,11.5])"
   ]
  },
  {
   "cell_type": "code",
   "execution_count": 66,
   "metadata": {},
   "outputs": [
    {
     "data": {
      "image/png": "[encoded data removed]",
      "text/plain": [
       "<Figure size 432x288 with 1 Axes>"
      ]
     },
     "metadata": {
      "needs_background": "light"
     },
     "output_type": "display_data"
    }
   ],
   "source": [
    "plt.hist(list_sum, bins='auto')  \n",
    "plt.title(\"Histogram with 'auto' bins\")\n",
    "\n",
    "plt.show()"
   ]
  },
  {
   "cell_type": "code",
   "execution_count": null,
   "metadata": {},
   "outputs": [],
   "source": []
  }
 ],
 "metadata": {
  "kernelspec": {
   "display_name": "Python 3",
   "language": "python",
   "name": "python3"
  },
  "language_info": {
   "codemirror_mode": {
    "name": "ipython",
    "version": 3
   },
   "file_extension": ".py",
   "mimetype": "text/x-python",
   "name": "python",
   "nbconvert_exporter": "python",
   "pygments_lexer": "ipython3",
   "version": "3.7.3"
  }
 },
 "nbformat": 4,
 "nbformat_minor": 2
}
