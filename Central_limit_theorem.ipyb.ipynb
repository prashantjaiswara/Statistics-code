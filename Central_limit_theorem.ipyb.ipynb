{
 "cells": [
  {
   "cell_type": "code",
   "execution_count": 188,
   "metadata": {},
   "outputs": [],
   "source": [
    "import numpy as np"
   ]
  },
  {
   "cell_type": "code",
   "execution_count": 189,
   "metadata": {},
   "outputs": [
    {
     "name": "stdout",
     "output_type": "stream",
     "text": [
      "[0.88 0.17 0.89 ... 0.93 0.89 0.1 ]\n"
     ]
    }
   ],
   "source": [
    "arr=np.random.rand(1000000).round(2)\n",
    "print(arr)\n",
    "#np.savetxt(\"arr_1million.csv\",arr,delimiter=\"\\n\")"
   ]
  },
  {
   "cell_type": "code",
   "execution_count": 190,
   "metadata": {},
   "outputs": [
    {
     "data": {
      "text/plain": [
       "array([0.31, 0.54, 0.41])"
      ]
     },
     "execution_count": 190,
     "metadata": {},
     "output_type": "execute_result"
    }
   ],
   "source": [
    "np.random.choice(arr,size=3,replace=False,p=None)"
   ]
  },
  {
   "cell_type": "code",
   "execution_count": 191,
   "metadata": {},
   "outputs": [
    {
     "name": "stdout",
     "output_type": "stream",
     "text": [
      "The shape of sampling list array is: (1, 16)\n"
     ]
    }
   ],
   "source": [
    "sampling_size=16\n",
    "no_of_sample=40\n",
    "\n",
    "sample_0= np.random.choice(arr,size=sampling_size,replace=False,p=None)\n",
    "sample_list=np.atleast_2d(sample_0)\n",
    "print(\"The shape of sampling list array is:\", sample_list.shape)\n",
    "\n",
    "for i in range(no_of_sample-1):\n",
    "    sample_t= np.random.choice(arr,size=sampling_size,replace=False,p=None)\n",
    "    sample_i= np.atleast_2d(sample_t)\n",
    "       \n",
    "    sample_list= np.append( sample_list, sample_i, axis=0)\n"
   ]
  },
  {
   "cell_type": "code",
   "execution_count": 192,
   "metadata": {},
   "outputs": [
    {
     "data": {
      "text/plain": [
       "(40, 16)"
      ]
     },
     "execution_count": 192,
     "metadata": {},
     "output_type": "execute_result"
    }
   ],
   "source": [
    "sample_list.shape"
   ]
  },
  {
   "cell_type": "code",
   "execution_count": 194,
   "metadata": {},
   "outputs": [
    {
     "name": "stdout",
     "output_type": "stream",
     "text": [
      "[10.73  8.33  6.34  5.72  8.75  7.3   8.45  6.23  7.35  9.27  7.44  8.36\n",
      "  8.98  5.8   8.27  9.04  9.13  9.08  7.1  11.07  8.56  6.23  8.32  7.09\n",
      "  7.12  6.33  6.67  6.83  7.79  7.62  8.19  7.31  7.8   8.1   8.11  9.25\n",
      "  8.34  7.57  8.35  6.12]\n"
     ]
    }
   ],
   "source": [
    "list_sum=np.sum(sample_list,axis=1)\n",
    "print(list_sum)\n",
    "\n",
    "np.savetxt(\"list_sum.csv\",list_sum,delimiter=\"\\n\")"
   ]
  },
  {
   "cell_type": "code",
   "execution_count": null,
   "metadata": {},
   "outputs": [],
   "source": []
  }
 ],
 "metadata": {
  "kernelspec": {
   "display_name": "Python 3",
   "language": "python",
   "name": "python3"
  },
  "language_info": {
   "codemirror_mode": {
    "name": "ipython",
    "version": 3
   },
   "file_extension": ".py",
   "mimetype": "text/x-python",
   "name": "python",
   "nbconvert_exporter": "python",
   "pygments_lexer": "ipython3",
   "version": "3.7.3"
  }
 },
 "nbformat": 4,
 "nbformat_minor": 2
}
